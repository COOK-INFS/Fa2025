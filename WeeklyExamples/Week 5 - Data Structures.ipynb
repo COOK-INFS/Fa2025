{
 "cells": [
  {
   "cell_type": "markdown",
   "id": "acc37b12",
   "metadata": {},
   "source": [
    "# List\n"
   ]
  },
  {
   "cell_type": "markdown",
   "id": "9b7522e6",
   "metadata": {},
   "source": [
    "A list in Python is an ordered collection of items that can store different kinds of data, like numbers, text, or even other lists. You can think of it as a flexible container or a “box with slots” where each slot has a position (called an index) and holds a value.\n",
    "\n",
    "- Unordered: The items keep the order in which you put them.\n",
    "- Indexed: Each item can be accessed by its position number (starting at 0, not 1).\n",
    "- Mutable: You can change, add, or remove items after creating the list.\n",
    "- Versatile: Lists can mix data types, though in data analytics we often keep them consistent (e.g., all numbers).\n",
    "\n",
    "Choose a List when:\n",
    "- The data might change.\n",
    "- Working with a collection of values such as survey responses that will be cleaned.\n",
    "- You need flexibility."
   ]
  },
  {
   "cell_type": "code",
   "execution_count": 1,
   "id": "44138cc4",
   "metadata": {},
   "outputs": [
    {
     "name": "stdout",
     "output_type": "stream",
     "text": [
      "['Jeep', 'F350', 'Ram']\n"
     ]
    }
   ],
   "source": [
    "cars = ['Jeep', 'F350', 'Ram']\n",
    "\n",
    "print(cars)"
   ]
  },
  {
   "cell_type": "code",
   "execution_count": 2,
   "id": "c3166c76",
   "metadata": {},
   "outputs": [
    {
     "name": "stdout",
     "output_type": "stream",
     "text": [
      "F350\n"
     ]
    }
   ],
   "source": [
    "# Access specific elements in a list\n",
    "\n",
    "print(cars[1])"
   ]
  },
  {
   "cell_type": "code",
   "execution_count": 5,
   "id": "41de274b",
   "metadata": {},
   "outputs": [
    {
     "name": "stdout",
     "output_type": "stream",
     "text": [
      "['Jeep', 'F350', 'Ram']\n"
     ]
    }
   ],
   "source": [
    "# Access a range of elements\n",
    "cars = ['Jeep', 'F350', 'Ram']\n",
    "print(cars[0:3])"
   ]
  },
  {
   "cell_type": "code",
   "execution_count": 8,
   "id": "b3869451",
   "metadata": {},
   "outputs": [
    {
     "name": "stdout",
     "output_type": "stream",
     "text": [
      "Jeep is in the list ['Jeep', 'F350', 'Ram'].\n"
     ]
    }
   ],
   "source": [
    "# Search for something in a list\n",
    "cars = ['Jeep', 'F350', 'Ram']\n",
    "\n",
    "lookingFor = input(\"What are you looking for?\")\n",
    "\n",
    "if lookingFor in cars:\n",
    "    print(f\"{lookingFor} is in the list {cars}.\")\n",
    "else:\n",
    "    print(f\"I did not find {lookingFor} in the list.\")\n"
   ]
  },
  {
   "cell_type": "code",
   "execution_count": 12,
   "id": "4f5af045",
   "metadata": {},
   "outputs": [
    {
     "name": "stdout",
     "output_type": "stream",
     "text": [
      "JEEP is in the list.\n"
     ]
    }
   ],
   "source": [
    "# Handle case sensitivity\n",
    "cars = ['Jeep', 'F350', 'Ram']\n",
    "\n",
    "lookingFor = input(\"What are you looking for?\")\n",
    "\n",
    "lowercase_cars = [car.lower() for car in cars]\n",
    "lowercase_lookingFor = lookingFor.lower()\n",
    "\n",
    "if lowercase_lookingFor in lowercase_cars:\n",
    "    index_location = lowercase_cars.index(lowercase_lookingFor)\n",
    "    print(f\"{lookingFor} is in the list.\")\n",
    "else:\n",
    "    print(\"I did not find it.\")\n",
    "    \n"
   ]
  },
  {
   "cell_type": "markdown",
   "id": "34675fcf",
   "metadata": {},
   "source": [
    "## Multiple LISTS by value"
   ]
  },
  {
   "cell_type": "code",
   "execution_count": 13,
   "id": "81ae4957",
   "metadata": {},
   "outputs": [
    {
     "name": "stdout",
     "output_type": "stream",
     "text": [
      "s * n = [1, 2, 3, 4, 5, 1, 2, 3, 4, 5, 1, 2, 3, 4, 5]\n",
      "n * s = [1, 2, 3, 4, 5, 1, 2, 3, 4, 5, 1, 2, 3, 4, 5]\n"
     ]
    }
   ],
   "source": [
    "s = [1,2,3,4,5]\n",
    "n = 3\n",
    "\n",
    "results1 = s*n\n",
    "results2 = n*s\n",
    "\n",
    "print(f\"s * n = {results1}\")\n",
    "print(f\"n * s = {results2}\")"
   ]
  },
  {
   "cell_type": "markdown",
   "id": "c9d37324",
   "metadata": {},
   "source": [
    "## Append data to a list"
   ]
  },
  {
   "cell_type": "code",
   "execution_count": 14,
   "id": "d23286ca",
   "metadata": {},
   "outputs": [
    {
     "name": "stdout",
     "output_type": "stream",
     "text": [
      "['Jeep', 'F350', 'Ram', 'Motorcycle']\n"
     ]
    }
   ],
   "source": [
    "cars = ['Jeep', 'F350', 'Ram']\n",
    "\n",
    "cars.append(\"Motorcycle\")\n",
    "\n",
    "print(cars)"
   ]
  },
  {
   "cell_type": "code",
   "execution_count": 17,
   "id": "7c72a1ca",
   "metadata": {},
   "outputs": [
    {
     "name": "stdout",
     "output_type": "stream",
     "text": [
      "['Jeep', 'Motorcycle', 'F350', 'Ram']\n"
     ]
    }
   ],
   "source": [
    "# Add data to a list at a specific location\n",
    "cars = ['Jeep', 'F350', 'Ram']\n",
    "\n",
    "cars.insert(1, \"Motorcycle\")\n",
    "\n",
    "print(cars)"
   ]
  },
  {
   "cell_type": "markdown",
   "id": "12dc9e01",
   "metadata": {},
   "source": [
    "## Create a list from other lists"
   ]
  },
  {
   "cell_type": "code",
   "execution_count": 16,
   "id": "96da05e2",
   "metadata": {},
   "outputs": [
    {
     "name": "stdout",
     "output_type": "stream",
     "text": [
      "[1, 2, 3, 4, 5, 6, 7, 8]\n"
     ]
    }
   ],
   "source": [
    "list1 = [1,2,3,4]\n",
    "list2 = [5,6,7,8]\n",
    "\n",
    "list1.extend(list2)\n",
    "\n",
    "print(list1)"
   ]
  },
  {
   "cell_type": "markdown",
   "id": "3c2f74ad",
   "metadata": {},
   "source": [
    "## Sorting and Reversing"
   ]
  },
  {
   "cell_type": "code",
   "execution_count": 18,
   "id": "9e1f2cf1",
   "metadata": {},
   "outputs": [
    {
     "name": "stdout",
     "output_type": "stream",
     "text": [
      "['Ram', 'F350', 'Jeep']\n"
     ]
    }
   ],
   "source": [
    "cars = ['Jeep', 'F350', 'Ram']\n",
    "\n",
    "cars.reverse()\n",
    "\n",
    "print(cars)"
   ]
  },
  {
   "cell_type": "code",
   "execution_count": 19,
   "id": "2fb0f63e",
   "metadata": {},
   "outputs": [
    {
     "name": "stdout",
     "output_type": "stream",
     "text": [
      "['F350', 'Jeep', 'Ram']\n"
     ]
    }
   ],
   "source": [
    "cars.sort()\n",
    "\n",
    "print(cars)"
   ]
  },
  {
   "cell_type": "markdown",
   "id": "0131091e",
   "metadata": {},
   "source": [
    "## Different data types in LISTS"
   ]
  },
  {
   "cell_type": "code",
   "execution_count": 21,
   "id": "d5b19337",
   "metadata": {},
   "outputs": [
    {
     "name": "stdout",
     "output_type": "stream",
     "text": [
      "4\n"
     ]
    }
   ],
   "source": [
    "cars = ['Jeep', 'F350', 'Ram', [1,2,3,4,5]]\n",
    "s = [1,2,43,4,5]\n",
    "\n",
    "print(len(cars))\n"
   ]
  },
  {
   "cell_type": "markdown",
   "id": "a1591fd1",
   "metadata": {},
   "source": [
    "## 2D Lists"
   ]
  },
  {
   "cell_type": "code",
   "execution_count": 23,
   "id": "04b60726",
   "metadata": {},
   "outputs": [
    {
     "name": "stdout",
     "output_type": "stream",
     "text": [
      "[['Buell', 'GS650', 'K1200RT', 'K1600GT'], ['S10', 'Ram', 'F350'], ['Rubicon', 'CJ5']]\n"
     ]
    }
   ],
   "source": [
    "matrix = [\n",
    "    ['Buell', 'GS650', 'K1200RT', 'K1600GT'],\n",
    "    ['S10', 'Ram', 'F350'],\n",
    "    ['Rubicon', 'CJ5']\n",
    "]\n",
    "\n",
    "print(matrix)"
   ]
  },
  {
   "cell_type": "code",
   "execution_count": 24,
   "id": "de4ee4c7",
   "metadata": {},
   "outputs": [
    {
     "name": "stdout",
     "output_type": "stream",
     "text": [
      "K1200RT\n"
     ]
    }
   ],
   "source": [
    "# Accessing information in a 2D list\n",
    "\n",
    "print(matrix[0][2])"
   ]
  },
  {
   "cell_type": "markdown",
   "id": "2deb5313",
   "metadata": {},
   "source": [
    "## 3D Lists"
   ]
  },
  {
   "cell_type": "code",
   "execution_count": 26,
   "id": "c22e3697",
   "metadata": {},
   "outputs": [
    {
     "name": "stdout",
     "output_type": "stream",
     "text": [
      "[[[1, 2, 3], [4, 5, 6]], [[7, 8, 9], [10, 11, 12]]]\n",
      "6\n"
     ]
    }
   ],
   "source": [
    "cube = [\n",
    "    [\n",
    "        [1,2,3],\n",
    "        [4,5,6]\n",
    "    ],\n",
    "    [\n",
    "        [7,8,9],\n",
    "        [10,11,12]\n",
    "    ]\n",
    "]\n",
    "\n",
    "print(cube)\n",
    "element = cube[0][1][2]\n",
    "\n",
    "print(element)"
   ]
  },
  {
   "cell_type": "markdown",
   "id": "20f5dfee",
   "metadata": {},
   "source": [
    "# Tuples\n",
    "\n"
   ]
  },
  {
   "cell_type": "markdown",
   "id": "5fa93648",
   "metadata": {},
   "source": [
    "A **tuple** in Python is an **ordered collection of items**, just like a list, **but it cannot be changed once created**. In other words, tuples are **immutable**.\n",
    "\n",
    "- **Ordered**: The items keep the order you give them.\n",
    "- **Indexed**: You access items by their position (starting at **0**).\n",
    "- **Immutable**: Once created, the items in a tuple **cannot be added, removed, or modified**.\n",
    "- **Useful for fixed data**: Tuples are great for storing information that shouldn’t change, like the dimensions of a dataset (rows, columns) or geographic coordinates.\n",
    "\n",
    "Choose a Tuple when:\n",
    "- The data should not change\n",
    "- The data represents a fixed structure (rows, columns)"
   ]
  },
  {
   "cell_type": "code",
   "execution_count": 27,
   "id": "1f59c3f8",
   "metadata": {},
   "outputs": [
    {
     "name": "stdout",
     "output_type": "stream",
     "text": [
      "1\n"
     ]
    }
   ],
   "source": [
    "myTuple = (1, \"Bob\", 3.14)\n",
    "\n",
    "print(myTuple[0])"
   ]
  },
  {
   "cell_type": "code",
   "execution_count": 29,
   "id": "2a3d6018",
   "metadata": {},
   "outputs": [
    {
     "name": "stdout",
     "output_type": "stream",
     "text": [
      "(1, 'Bob', 3.14)\n"
     ]
    },
    {
     "ename": "TypeError",
     "evalue": "'tuple' object does not support item assignment",
     "output_type": "error",
     "traceback": [
      "\u001b[1;31m---------------------------------------------------------------------------\u001b[0m",
      "\u001b[1;31mTypeError\u001b[0m                                 Traceback (most recent call last)",
      "Cell \u001b[1;32mIn[29], line 7\u001b[0m\n\u001b[0;32m      4\u001b[0m \u001b[38;5;28mprint\u001b[39m(myTuple)\n\u001b[0;32m      6\u001b[0m \u001b[38;5;66;03m# Try to change values\u001b[39;00m\n\u001b[1;32m----> 7\u001b[0m myTuple[\u001b[38;5;241m1\u001b[39m] \u001b[38;5;241m=\u001b[39m \u001b[38;5;124m'\u001b[39m\u001b[38;5;124mFred\u001b[39m\u001b[38;5;124m'\u001b[39m\n\u001b[0;32m      8\u001b[0m \u001b[38;5;28mprint\u001b[39m(myTuple)\n",
      "\u001b[1;31mTypeError\u001b[0m: 'tuple' object does not support item assignment"
     ]
    }
   ],
   "source": [
    "# Immutability example\n",
    "myTuple = (1, \"Bob\", 3.14)\n",
    "\n",
    "print(myTuple)\n",
    "\n",
    "# Try to change values\n",
    "myTuple[1] = 'Fred'\n",
    "print(myTuple)"
   ]
  },
  {
   "cell_type": "code",
   "execution_count": 30,
   "id": "f1301c64",
   "metadata": {},
   "outputs": [
    {
     "name": "stdout",
     "output_type": "stream",
     "text": [
      "(1, 'Fred', 3.14)\n"
     ]
    }
   ],
   "source": [
    "# Immutability example\n",
    "myTuple = (1, \"Bob\", 3.14)\n",
    "\n",
    "myList = list(myTuple)\n",
    "myList[1] = 'Fred'\n",
    "myTuple = tuple(myList)\n",
    "\n",
    "print(myTuple)"
   ]
  },
  {
   "cell_type": "markdown",
   "id": "aba98b71",
   "metadata": {},
   "source": [
    "# Sets"
   ]
  },
  {
   "cell_type": "markdown",
   "id": "01514d46",
   "metadata": {},
   "source": [
    "A **set** in Python is an **unordered collection of unique items**.\n",
    "\n",
    "- **Unordered**: The items don’t keep their position — there’s no concept of index.\n",
    "- **Unique**: A set automatically removes duplicates.\n",
    "- **Mutable**: You can add or remove items, but the collection won’t allow repeats.\n",
    "- **Efficient for membership tests**: Checking if something exists in a set is very fast.\n",
    "\n",
    "When to use Set:\n",
    "- Removing duplicates from data.\n",
    "- Checking for a value in a dataset."
   ]
  },
  {
   "cell_type": "code",
   "execution_count": 31,
   "id": "b577fe5c",
   "metadata": {},
   "outputs": [
    {
     "name": "stdout",
     "output_type": "stream",
     "text": [
      "{1, 2, 3, 4}\n"
     ]
    }
   ],
   "source": [
    "mySet = {1,2,3,4}\n",
    "print(mySet)"
   ]
  },
  {
   "cell_type": "code",
   "execution_count": 32,
   "id": "bc5d9824",
   "metadata": {},
   "outputs": [
    {
     "name": "stdout",
     "output_type": "stream",
     "text": [
      "{1, 2, 3, 4, 5}\n"
     ]
    }
   ],
   "source": [
    "# Add elements\n",
    "mySet = {1,2,3,4}\n",
    "\n",
    "mySet.add(5)\n",
    "print(mySet)"
   ]
  },
  {
   "cell_type": "code",
   "execution_count": 33,
   "id": "0ee285b6",
   "metadata": {},
   "outputs": [
    {
     "name": "stdout",
     "output_type": "stream",
     "text": [
      "{1, 2, 3, 4, 5, 6, 7, 8}\n"
     ]
    }
   ],
   "source": [
    "# Join sets\n",
    "set1 = {1,2,3,4}\n",
    "set2 = {5,6,7,8}\n",
    "\n",
    "union = set1.union(set2)\n",
    "print(union)"
   ]
  },
  {
   "cell_type": "code",
   "execution_count": 35,
   "id": "581b09a7",
   "metadata": {},
   "outputs": [
    {
     "name": "stdout",
     "output_type": "stream",
     "text": [
      "{1, 2, 3, 4, 5, 6}\n"
     ]
    }
   ],
   "source": [
    "# unique value example in Sets\n",
    "\n",
    "set1 = {1,2,3}\n",
    "set2 = {1,2,3,4,5,6}\n",
    "\n",
    "union = set1.union(set2)\n",
    "\n",
    "print(union)"
   ]
  },
  {
   "cell_type": "code",
   "execution_count": 36,
   "id": "7cccc920",
   "metadata": {},
   "outputs": [
    {
     "name": "stdout",
     "output_type": "stream",
     "text": [
      "{1, 2, 3}\n"
     ]
    }
   ],
   "source": [
    "# Intersection example \n",
    "# Only keep the values that occur in both sets\n",
    "\n",
    "set1 = {1,2,3}\n",
    "set2 = {1,2,3,4,5,6}\n",
    "\n",
    "union = set1.intersection(set2)\n",
    "print(union)"
   ]
  },
  {
   "cell_type": "code",
   "execution_count": 38,
   "id": "aace3a6e",
   "metadata": {},
   "outputs": [
    {
     "name": "stdout",
     "output_type": "stream",
     "text": [
      "{7}\n"
     ]
    }
   ],
   "source": [
    "# Difference\n",
    "# Only keep the values from the first data set that are NOT IN the second\n",
    "set1 = {1,2,3,7}\n",
    "set2 = {1,2,3,4,5,6}\n",
    "\n",
    "union = set1.difference(set2)\n",
    "\n",
    "print(union)\n"
   ]
  },
  {
   "cell_type": "code",
   "execution_count": 39,
   "id": "e48a7783",
   "metadata": {},
   "outputs": [
    {
     "name": "stdout",
     "output_type": "stream",
     "text": [
      "{4, 5, 6, 7}\n"
     ]
    }
   ],
   "source": [
    "# Symmetric difference \n",
    "# Values that occur in either set but not both.\n",
    "set1 = {1,2,3,7}\n",
    "set2 = {1,2,3,4,5,6}\n",
    "\n",
    "union = set1.symmetric_difference(set2)\n",
    "\n",
    "print(union)\n"
   ]
  },
  {
   "cell_type": "markdown",
   "id": "6b8151dd",
   "metadata": {},
   "source": [
    "# Dictionary"
   ]
  },
  {
   "cell_type": "markdown",
   "id": "0fee6ca2",
   "metadata": {},
   "source": [
    "A **dictionary** in Python is a collection of **key–value pairs**.\n",
    "\n",
    "- **Keys**: unique identifiers (like labels).\n",
    "- **Values**: the data associated with each key.\n",
    "- **Unordered (before Python 3.7)**, but in modern Python they remember the order you insert items.\n",
    "- **Mutable**: you can add, change, or remove items.\n",
    "- **Fast lookups**: dictionaries make it quick to retrieve values when you know the key.\n",
    "    \n",
    "Think of a dictionary as a **real dictionary**: you look up a word (key) to find its definition (value)."
   ]
  },
  {
   "cell_type": "code",
   "execution_count": 41,
   "id": "c460870a",
   "metadata": {},
   "outputs": [
    {
     "name": "stdout",
     "output_type": "stream",
     "text": [
      "{'brand': 'Jeep', 'Model': 'Rubicon', 'Year': '2014'}\n"
     ]
    }
   ],
   "source": [
    "jeep = {\n",
    "    \"brand\": \"Jeep\",\n",
    "    \"Model\": \"Rubicon\",\n",
    "    \"Year\": \"2014\"\n",
    "}\n",
    "\n",
    "print(jeep)"
   ]
  },
  {
   "cell_type": "code",
   "execution_count": 44,
   "id": "371dd93f",
   "metadata": {},
   "outputs": [
    {
     "name": "stdout",
     "output_type": "stream",
     "text": [
      "Sreen Resolution:  (1920, 1080)\n",
      "Font size:  16\n"
     ]
    }
   ],
   "source": [
    "# Typical config example\n",
    "config = {\n",
    "    'screen_resolutioh': (1920,1080),\n",
    "    'color_scheme': 'dark',\n",
    "    'file_paths':{\n",
    "        'data_file': '/path/to/data.txt',\n",
    "        'log_file': '/path/to/log.txt'\n",
    "    }\n",
    "}\n",
    "\n",
    "# Access a specific Dictionary element\n",
    "print(\"Sreen Resolution: \", config['screen_resolutioh'])\n",
    "\n",
    "# Update config values in Dictionary\n",
    "config['color_scheme'] = 'light'\n",
    "\n",
    "# Add a new element\n",
    "config['font_size'] = 16\n",
    "\n",
    "print(\"Font size: \", config['font_size'])"
   ]
  },
  {
   "cell_type": "code",
   "execution_count": 47,
   "id": "7a13cb28",
   "metadata": {},
   "outputs": [
    {
     "name": "stdout",
     "output_type": "stream",
     "text": [
      "screen_resolutioh\n",
      "color_scheme\n",
      "file_paths\n",
      "font_size\n",
      "(1920, 1080)\n",
      "light\n",
      "{'data_file': '/path/to/data.txt', 'log_file': '/path/to/log.txt'}\n",
      "16\n",
      "screen_resolutioh: (1920, 1080)\n",
      "color_scheme: light\n",
      "file_paths: {'data_file': '/path/to/data.txt', 'log_file': '/path/to/log.txt'}\n",
      "font_size: 16\n"
     ]
    }
   ],
   "source": [
    "# Search for values in a Dictionary\n",
    "\n",
    "# Loop through the keys\n",
    "for key in config:\n",
    "    print(key)\n",
    "\n",
    "for value in config.values():\n",
    "    print(value)\n",
    "\n",
    "for key, value in config.items():\n",
    "    print(f\"{key}: {value}\")"
   ]
  },
  {
   "cell_type": "code",
   "execution_count": 51,
   "id": "3879bb26",
   "metadata": {},
   "outputs": [
    {
     "name": "stdout",
     "output_type": "stream",
     "text": [
      "Found it!\n",
      "Could not find it!\n"
     ]
    }
   ],
   "source": [
    "# Search for elements in a dictionary\n",
    "if 'light' in config.values():\n",
    "    print(\"Found it!\")\n",
    "else:\n",
    "    print(\"Not Found!\")\n",
    "\n",
    "# Search for keys\n",
    "if 'File_paths' in config:\n",
    "    print(\"Found it!\")\n",
    "else:\n",
    "    print(\"Could not find it!\")"
   ]
  },
  {
   "cell_type": "markdown",
   "id": "0d57c800",
   "metadata": {},
   "source": [
    "# Zip function"
   ]
  },
  {
   "cell_type": "markdown",
   "id": "e96f76b9",
   "metadata": {},
   "source": [
    "The zip() function in Python is a built-in function that aggregates elements from two or more iterables (like lists, tuples, or dictionaries) and returns an iterator of tuples, where each tuple contains the elements from the iterables that are in the same position. This function is commonly used for parallel iteration over multiple lists or iterables.\n",
    " \n",
    "Basics of how it works:\n",
    "\n",
    "- **Syntax**: zip(*iterables)\n",
    "    \n",
    "    - iterables: Any number of iterables (e.g., lists, tuples, etc.). The asterisk () indicates that the function can take any number of arguments.\n",
    "      \n",
    "    \n",
    "- **Return Value**: An iterator of tuples, where the i-th tuple contains the i-th element from each of the argument sequences or iterables. The iterator stops when the shortest input iterable is exhausted. - **Usage**: The zip() function is used when you need to loop over multiple iterables simultaneously. For example, if you have two lists—one containing names and the other containing ages—and you want to pair each name with its corresponding age, zip() makes this task straightforward.   "
   ]
  },
  {
   "cell_type": "code",
   "execution_count": 53,
   "id": "24321ab2",
   "metadata": {},
   "outputs": [
    {
     "name": "stdout",
     "output_type": "stream",
     "text": [
      "{'name': 30, 'age': 'John Doe', 'city': 'New York'}\n"
     ]
    }
   ],
   "source": [
    "keysList = ['name', 'age', 'city']\n",
    "valuesList = [30, 'John Doe', 'New York']\n",
    "\n",
    "person = dict(zip(keysList, valuesList))\n",
    "\n",
    "print(person)\n"
   ]
  },
  {
   "cell_type": "code",
   "execution_count": 54,
   "id": "5e15f38e",
   "metadata": {},
   "outputs": [
    {
     "name": "stdout",
     "output_type": "stream",
     "text": [
      "Alice is 25 years old.\n",
      "Bob is 30 years old.\n",
      "Charlie is 35 years old.\n"
     ]
    }
   ],
   "source": [
    "names = ['Alice', 'Bob', 'Charlie']\n",
    "ages = [25, 30, 35]\n",
    "\n",
    "# Use zip to pair each name with it's age\n",
    "for name, age in zip(names, ages):\n",
    "    print(f\"{name} is {age} years old.\")"
   ]
  },
  {
   "cell_type": "markdown",
   "id": "7b97afaa",
   "metadata": {},
   "source": [
    "# List Comprehension"
   ]
  },
  {
   "cell_type": "markdown",
   "id": "f86f2cdf",
   "metadata": {},
   "source": [
    "Python comprehensions provide a concise way to create lists, dictionaries, sets, and generators. They offer a more syntactically compact and often more readable way to create these data structures compared to traditional loops and function calls. It allows for writing compact, readable code that combines loops and conditional logic in a single line."
   ]
  },
  {
   "cell_type": "code",
   "execution_count": 55,
   "id": "7579b577",
   "metadata": {},
   "outputs": [
    {
     "name": "stdout",
     "output_type": "stream",
     "text": [
      "Jeep\n",
      "F350\n",
      "Ram\n"
     ]
    }
   ],
   "source": [
    "cars = ['Jeep', 'F350', 'Ram']\n",
    "\n",
    "for vehicle in cars:\n",
    "    print(vehicle)"
   ]
  },
  {
   "cell_type": "code",
   "execution_count": 59,
   "id": "4f3114b4",
   "metadata": {},
   "outputs": [
    {
     "name": "stdout",
     "output_type": "stream",
     "text": [
      "Jeep\n",
      "F350\n",
      "Ram\n"
     ]
    },
    {
     "data": {
      "text/plain": [
       "[None, None, None]"
      ]
     },
     "execution_count": 59,
     "metadata": {},
     "output_type": "execute_result"
    }
   ],
   "source": [
    "# Using comprehension\n",
    "cars = ['Jeep', 'F350', 'Ram']\n",
    "\n",
    "[print(vehicles) for vehicles in cars]"
   ]
  },
  {
   "cell_type": "code",
   "execution_count": 57,
   "id": "0f8fd081",
   "metadata": {},
   "outputs": [
    {
     "name": "stdout",
     "output_type": "stream",
     "text": [
      "Valid Ages:  [25, 120, 34, 45, 60]\n"
     ]
    }
   ],
   "source": [
    "# Filtering data with comprehension\n",
    "customer_ages = [25, -5, 120, 34, 200, 45, 60, -10]\n",
    "\n",
    "valid_ages = [age for age in customer_ages if 0 <= age <= 120]\n",
    "\n",
    "print(\"Valid Ages: \", valid_ages)"
   ]
  }
 ],
 "metadata": {
  "kernelspec": {
   "display_name": "base",
   "language": "python",
   "name": "python3"
  },
  "language_info": {
   "codemirror_mode": {
    "name": "ipython",
    "version": 3
   },
   "file_extension": ".py",
   "mimetype": "text/x-python",
   "name": "python",
   "nbconvert_exporter": "python",
   "pygments_lexer": "ipython3",
   "version": "3.13.5"
  }
 },
 "nbformat": 4,
 "nbformat_minor": 5
}
