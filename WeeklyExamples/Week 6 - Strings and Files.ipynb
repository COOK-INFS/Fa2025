{
 "cells": [
  {
   "cell_type": "markdown",
   "id": "57083b98",
   "metadata": {},
   "source": [
    "# String examples"
   ]
  },
  {
   "cell_type": "code",
   "execution_count": 1,
   "id": "b33e996f",
   "metadata": {},
   "outputs": [
    {
     "name": "stdout",
     "output_type": "stream",
     "text": [
      "Hello World\n"
     ]
    }
   ],
   "source": [
    "myString = \"Hello World\"\n",
    "print(myString)"
   ]
  },
  {
   "cell_type": "code",
   "execution_count": 4,
   "id": "db8c3445",
   "metadata": {},
   "outputs": [
    {
     "name": "stdout",
     "output_type": "stream",
     "text": [
      "World\n"
     ]
    }
   ],
   "source": [
    "myString = \"Hello World\"\n",
    "\n",
    "# Print an index location\n",
    "print(myString[6:11])"
   ]
  },
  {
   "cell_type": "markdown",
   "id": "14b267d8",
   "metadata": {},
   "source": [
    "## String immutability"
   ]
  },
  {
   "cell_type": "code",
   "execution_count": 7,
   "id": "eafa94fe",
   "metadata": {},
   "outputs": [
    {
     "name": "stdout",
     "output_type": "stream",
     "text": [
      "Memory location string1 before change: 2630421264496\n",
      "Memory location string2 before change: 2630421286896\n",
      "Memory location string1 after change: 2630421286896\n",
      "Memory location string2 after change: 2630421286896\n",
      "Mary\n",
      "Mary\n"
     ]
    }
   ],
   "source": [
    "string1 = \"Bob\"\n",
    "string2 = \"Mary\"\n",
    "\n",
    "memory_before_string1 = id(string1)\n",
    "memory_before_string2 = id(string2)\n",
    "\n",
    "# Change the value of string1\n",
    "string1 = \"Mary\"\n",
    "\n",
    "memory_after_string1 = id(string1)\n",
    "memory_after_string2 = id(string2)\n",
    "\n",
    "\n",
    "print(f\"Memory location string1 before change: {memory_before_string1}\")\n",
    "print(f\"Memory location string2 before change: {memory_before_string2}\")\n",
    "print(f\"Memory location string1 after change: {memory_after_string1}\")\n",
    "print(f\"Memory location string2 after change: {memory_after_string2}\")\n",
    "\n",
    "print(string1)\n",
    "print(string2)"
   ]
  },
  {
   "cell_type": "markdown",
   "id": "54ebadbc",
   "metadata": {},
   "source": [
    "# Formatting Strings"
   ]
  },
  {
   "cell_type": "code",
   "execution_count": null,
   "id": "21457ee3",
   "metadata": {},
   "outputs": [
    {
     "name": "stdout",
     "output_type": "stream",
     "text": [
      "Hello, Alice. You are 30 years old.\n"
     ]
    }
   ],
   "source": [
    "# f String style of formatting\n",
    "\n",
    "name = \"Alice\"\n",
    "age = 30\n",
    "\n",
    "greeting = f\"Hello, {name}. You are {age} years old.\"\n",
    "\n",
    "print(greeting)"
   ]
  },
  {
   "cell_type": "code",
   "execution_count": 9,
   "id": "94937d2e",
   "metadata": {},
   "outputs": [
    {
     "name": "stdout",
     "output_type": "stream",
     "text": [
      "Hello, Alice. You are 30 years old.\n"
     ]
    }
   ],
   "source": [
    "# .format method call formatting\n",
    "\n",
    "name = \"Alice\"\n",
    "age = 30\n",
    "\n",
    "greeting = \"Hello, {}. You are {} years old.\".format(name, age)\n",
    "\n",
    "print(greeting)"
   ]
  },
  {
   "cell_type": "markdown",
   "id": "5ffa3462",
   "metadata": {},
   "source": [
    "# Escaping characters"
   ]
  },
  {
   "cell_type": "code",
   "execution_count": 12,
   "id": "dd52b0cd",
   "metadata": {},
   "outputs": [
    {
     "name": "stdout",
     "output_type": "stream",
     "text": [
      "I am a \"goof\" no doubt about it!\n"
     ]
    }
   ],
   "source": [
    "escapeEx = \"I am a \\\"goof\\\" no doubt about it!\"\n",
    "print(escapeEx)"
   ]
  },
  {
   "cell_type": "markdown",
   "id": "52c72c6b",
   "metadata": {},
   "source": [
    "# Newline vs Carriage return"
   ]
  },
  {
   "cell_type": "code",
   "execution_count": 17,
   "id": "c683345d",
   "metadata": {},
   "outputs": [
    {
     "name": "stdout",
     "output_type": "stream",
     "text": [
      "This is line 1. \n",
      "This is line 2.\n"
     ]
    }
   ],
   "source": [
    "# Newline\n",
    "\n",
    "newline = \"This is line 1. \\nThis is line 2.\"\n",
    "print(newline)"
   ]
  },
  {
   "cell_type": "code",
   "execution_count": 15,
   "id": "a120a48c",
   "metadata": {},
   "outputs": [
    {
     "name": "stdout",
     "output_type": "stream",
     "text": [
      "This is line 2. \n"
     ]
    }
   ],
   "source": [
    "# Carriage return\n",
    "carriage = \"This is line 1. \\rThis is line 2.\"\n",
    "print(carriage)"
   ]
  },
  {
   "cell_type": "markdown",
   "id": "3cf9f3e2",
   "metadata": {},
   "source": [
    "# Search in a String"
   ]
  },
  {
   "cell_type": "code",
   "execution_count": 18,
   "id": "f33d7dbc",
   "metadata": {},
   "outputs": [
    {
     "name": "stdout",
     "output_type": "stream",
     "text": [
      "True\n"
     ]
    }
   ],
   "source": [
    "my_String = \"Hello World\"\n",
    "result = \"World\" in my_String\n",
    "\n",
    "print(result)"
   ]
  },
  {
   "cell_type": "markdown",
   "id": "0aaf220f",
   "metadata": {},
   "source": [
    "# File Examples"
   ]
  },
  {
   "cell_type": "code",
   "execution_count": 12,
   "id": "0300eb06",
   "metadata": {},
   "outputs": [],
   "source": [
    "f = open(\"../files/readfileExample.txt\", \"w\")\n",
    "\n",
    "# Writing to the file\n",
    "f.write(\"My third line of text.\")\n",
    "f.close()\n"
   ]
  },
  {
   "cell_type": "code",
   "execution_count": 13,
   "id": "bece44b1",
   "metadata": {},
   "outputs": [
    {
     "name": "stdout",
     "output_type": "stream",
     "text": [
      "My third line of text.\n"
     ]
    }
   ],
   "source": [
    "# READ a file\n",
    "\n",
    "f = open(\"../files/readfileExample.txt\", \"r\")\n",
    "print(f.read())"
   ]
  },
  {
   "cell_type": "code",
   "execution_count": 14,
   "id": "34f6c78c",
   "metadata": {},
   "outputs": [],
   "source": [
    "# Appending contents of a file\n",
    "\n",
    "f = open(\"../files/readfileExample.txt\", \"a\")\n",
    "f.write(\"\\nI hope this works or it would be embarrassing.\")\n",
    "f.close()"
   ]
  },
  {
   "cell_type": "code",
   "execution_count": 16,
   "id": "e7e98863",
   "metadata": {},
   "outputs": [
    {
     "name": "stdout",
     "output_type": "stream",
     "text": [
      "Testing if I can read a file.\n"
     ]
    }
   ],
   "source": [
    "# READ a file\n",
    "\n",
    "f = open(\"../files/Test.txt\", \"r\")\n",
    "print(f.read())"
   ]
  },
  {
   "cell_type": "code",
   "execution_count": 18,
   "id": "5ff63c24",
   "metadata": {},
   "outputs": [
    {
     "name": "stdout",
     "output_type": "stream",
     "text": [
      "Testing if I can read a file.Add more text\n",
      "Add more text\n"
     ]
    }
   ],
   "source": [
    "# Using with WITH method\n",
    "\n",
    "text = \"\\nAdd more text\"\n",
    "\n",
    "with open(\"../files/Test.txt\", \"a\") as f:\n",
    "    f.write(text)\n",
    "with open (\"../files/Test.txt\", \"r\") as f:\n",
    "    print(f.read())"
   ]
  },
  {
   "cell_type": "markdown",
   "id": "0182a36c",
   "metadata": {},
   "source": [
    "# Error handling"
   ]
  },
  {
   "cell_type": "code",
   "execution_count": 24,
   "id": "40f84621",
   "metadata": {},
   "outputs": [
    {
     "ename": "FileNotFoundError",
     "evalue": "[Errno 2] No such file or directory: '../files/testing.txt'",
     "output_type": "error",
     "traceback": [
      "\u001b[1;31m---------------------------------------------------------------------------\u001b[0m",
      "\u001b[1;31mFileNotFoundError\u001b[0m                         Traceback (most recent call last)",
      "Cell \u001b[1;32mIn[24], line 1\u001b[0m\n\u001b[1;32m----> 1\u001b[0m \u001b[38;5;28;01mwith\u001b[39;00m \u001b[38;5;28mopen\u001b[39m(\u001b[38;5;124m\"\u001b[39m\u001b[38;5;124m../files/testing.txt\u001b[39m\u001b[38;5;124m\"\u001b[39m, \u001b[38;5;124m\"\u001b[39m\u001b[38;5;124mr\u001b[39m\u001b[38;5;124m\"\u001b[39m) \u001b[38;5;28;01mas\u001b[39;00m f:\n\u001b[0;32m      2\u001b[0m     \u001b[38;5;28mprint\u001b[39m(f\u001b[38;5;241m.\u001b[39mread())\n",
      "File \u001b[1;32mc:\\Users\\rcook2\\AppData\\Local\\anaconda3\\Lib\\site-packages\\IPython\\core\\interactiveshell.py:324\u001b[0m, in \u001b[0;36m_modified_open\u001b[1;34m(file, *args, **kwargs)\u001b[0m\n\u001b[0;32m    317\u001b[0m \u001b[38;5;28;01mif\u001b[39;00m file \u001b[38;5;129;01min\u001b[39;00m {\u001b[38;5;241m0\u001b[39m, \u001b[38;5;241m1\u001b[39m, \u001b[38;5;241m2\u001b[39m}:\n\u001b[0;32m    318\u001b[0m     \u001b[38;5;28;01mraise\u001b[39;00m \u001b[38;5;167;01mValueError\u001b[39;00m(\n\u001b[0;32m    319\u001b[0m         \u001b[38;5;124mf\u001b[39m\u001b[38;5;124m\"\u001b[39m\u001b[38;5;124mIPython won\u001b[39m\u001b[38;5;124m'\u001b[39m\u001b[38;5;124mt let you open fd=\u001b[39m\u001b[38;5;132;01m{\u001b[39;00mfile\u001b[38;5;132;01m}\u001b[39;00m\u001b[38;5;124m by default \u001b[39m\u001b[38;5;124m\"\u001b[39m\n\u001b[0;32m    320\u001b[0m         \u001b[38;5;124m\"\u001b[39m\u001b[38;5;124mas it is likely to crash IPython. If you know what you are doing, \u001b[39m\u001b[38;5;124m\"\u001b[39m\n\u001b[0;32m    321\u001b[0m         \u001b[38;5;124m\"\u001b[39m\u001b[38;5;124myou can use builtins\u001b[39m\u001b[38;5;124m'\u001b[39m\u001b[38;5;124m open.\u001b[39m\u001b[38;5;124m\"\u001b[39m\n\u001b[0;32m    322\u001b[0m     )\n\u001b[1;32m--> 324\u001b[0m \u001b[38;5;28;01mreturn\u001b[39;00m io_open(file, \u001b[38;5;241m*\u001b[39margs, \u001b[38;5;241m*\u001b[39m\u001b[38;5;241m*\u001b[39mkwargs)\n",
      "\u001b[1;31mFileNotFoundError\u001b[0m: [Errno 2] No such file or directory: '../files/testing.txt'"
     ]
    }
   ],
   "source": [
    "with open(\"../files/testing.txt\", \"r\") as f:\n",
    "    print(f.read())\n"
   ]
  },
  {
   "cell_type": "code",
   "execution_count": 27,
   "id": "9ed8c2dd",
   "metadata": {},
   "outputs": [
    {
     "name": "stdout",
     "output_type": "stream",
     "text": [
      "That file was not found. Please check the file name.\n"
     ]
    }
   ],
   "source": [
    "try:\n",
    "    with open(\"../files/est.txt\", \"r\") as f:\n",
    "        print(f.read())\n",
    "except FileNotFoundError:\n",
    "    print(\"That file was not found. Please check the file name.\")\n",
    "except SyntaxError:\n",
    "    print(\"Something is incorrect in your file format, please try a different file.\")"
   ]
  }
 ],
 "metadata": {
  "kernelspec": {
   "display_name": "base",
   "language": "python",
   "name": "python3"
  },
  "language_info": {
   "codemirror_mode": {
    "name": "ipython",
    "version": 3
   },
   "file_extension": ".py",
   "mimetype": "text/x-python",
   "name": "python",
   "nbconvert_exporter": "python",
   "pygments_lexer": "ipython3",
   "version": "3.13.5"
  }
 },
 "nbformat": 4,
 "nbformat_minor": 5
}
