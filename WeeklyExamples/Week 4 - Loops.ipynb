{
 "cells": [
  {
   "cell_type": "markdown",
   "id": "3742b4f9",
   "metadata": {},
   "source": [
    "# WHILE Loop\n",
    "A While loop is used to repeatedly execute a block of code as long as a given condition is **TRUE**"
   ]
  },
  {
   "cell_type": "code",
   "execution_count": 1,
   "id": "c13f3aab",
   "metadata": {},
   "outputs": [
    {
     "name": "stdout",
     "output_type": "stream",
     "text": [
      "1\n",
      "2\n",
      "3\n",
      "4\n",
      "5\n",
      "6\n",
      "7\n",
      "8\n",
      "9\n",
      "10\n"
     ]
    }
   ],
   "source": [
    "x = 1\n",
    "\n",
    "while x < 11:\n",
    "    print(x)\n",
    "    x += 1"
   ]
  },
  {
   "cell_type": "markdown",
   "id": "4e3450dc",
   "metadata": {},
   "source": [
    "## BREAK Statement\n",
    "The break statement immediately ends the loop, even if the loop condition is still True. Execution jumps to the first line after the loop."
   ]
  },
  {
   "cell_type": "code",
   "execution_count": 5,
   "id": "3302d8a5",
   "metadata": {},
   "outputs": [
    {
     "name": "stdout",
     "output_type": "stream",
     "text": [
      "1\n",
      "2\n",
      "3\n",
      "4\n",
      "5\n"
     ]
    }
   ],
   "source": [
    "x = 1\n",
    "\n",
    "while x < 11:\n",
    "    print(x)\n",
    "    if x == 5:\n",
    "        break\n",
    "    x += 1"
   ]
  },
  {
   "cell_type": "markdown",
   "id": "671e58ac",
   "metadata": {},
   "source": [
    "## CONTINUE Statement\n",
    "The continue statement skips the rest of the code in the current loop iteration and moves to the next iteration."
   ]
  },
  {
   "cell_type": "code",
   "execution_count": 7,
   "id": "9b05018b",
   "metadata": {},
   "outputs": [
    {
     "name": "stdout",
     "output_type": "stream",
     "text": [
      "1\n",
      "2\n",
      "3\n",
      "4\n",
      "6\n",
      "7\n",
      "8\n",
      "9\n",
      "10\n",
      "11\n"
     ]
    }
   ],
   "source": [
    "x = 0\n",
    "\n",
    "while x < 11:\n",
    "    x += 1\n",
    "    if x == 5:\n",
    "        continue\n",
    "    print(x)"
   ]
  },
  {
   "cell_type": "markdown",
   "id": "db16338a",
   "metadata": {},
   "source": [
    "# FOR Loop\n",
    "For loops in Python are used for iterating over a sequence, which could be a list, a tuple, a dictionary, a set, or a string. This makes for loops highly versatile for various tasks in programming.\n",
    "\n",
    "For loops will often use \"i\" to represent \"index\""
   ]
  },
  {
   "cell_type": "code",
   "execution_count": 8,
   "id": "138abd2c",
   "metadata": {},
   "outputs": [
    {
     "name": "stdout",
     "output_type": "stream",
     "text": [
      "1\n",
      "4\n",
      "9\n",
      "16\n",
      "25\n"
     ]
    }
   ],
   "source": [
    "for i in range(1,6):\n",
    "    print(i *i)"
   ]
  },
  {
   "cell_type": "code",
   "execution_count": 9,
   "id": "18828b4a",
   "metadata": {},
   "outputs": [
    {
     "name": "stdout",
     "output_type": "stream",
     "text": [
      "1\n",
      "2\n",
      "3\n",
      "4\n",
      "5\n",
      "6\n",
      "7\n",
      "8\n",
      "9\n",
      "10\n",
      "Happy Birthday!\n"
     ]
    }
   ],
   "source": [
    "for i in range(1, 11):\n",
    "    print(i)\n",
    "print(\"Happy Birthday!\")"
   ]
  },
  {
   "cell_type": "code",
   "execution_count": 10,
   "id": "09846081",
   "metadata": {},
   "outputs": [
    {
     "name": "stdout",
     "output_type": "stream",
     "text": [
      "10\n",
      "9\n",
      "8\n",
      "7\n",
      "6\n",
      "5\n",
      "4\n",
      "3\n",
      "2\n",
      "1\n",
      "Kaboom\n"
     ]
    }
   ],
   "source": [
    "for i in reversed(range(1,11)):\n",
    "    print(i)\n",
    "print(\"Kaboom\")"
   ]
  },
  {
   "cell_type": "code",
   "execution_count": 12,
   "id": "5dd6a419",
   "metadata": {},
   "outputs": [
    {
     "name": "stdout",
     "output_type": "stream",
     "text": [
      "0\n",
      "2\n",
      "4\n",
      "6\n",
      "8\n",
      "10\n",
      "yes\n"
     ]
    }
   ],
   "source": [
    "# Count by specific intervals\n",
    "\n",
    "for i in range(0,11,2):\n",
    "    print(i)\n",
    "print(\"yes\")"
   ]
  },
  {
   "cell_type": "code",
   "execution_count": 25,
   "id": "1e27a158",
   "metadata": {},
   "outputs": [
    {
     "name": "stdout",
     "output_type": "stream",
     "text": [
      "3145976\n",
      "9\n",
      "4\n",
      "32\n",
      "43\n"
     ]
    }
   ],
   "source": [
    "# Use a FOR loop to iterate over a sequence of data\n",
    "\n",
    "numbers = [3145976, 9, 4, 32, 43]\n",
    "\n",
    "for number in numbers:\n",
    "    print(number)"
   ]
  },
  {
   "cell_type": "code",
   "execution_count": 14,
   "id": "3f175f4f",
   "metadata": {},
   "outputs": [
    {
     "name": "stdout",
     "output_type": "stream",
     "text": [
      "[1, 2, 3, 4, 5]\n"
     ]
    }
   ],
   "source": [
    "print(numbers)"
   ]
  },
  {
   "cell_type": "code",
   "execution_count": 15,
   "id": "72de5e11",
   "metadata": {},
   "outputs": [
    {
     "name": "stdout",
     "output_type": "stream",
     "text": [
      "1\n",
      "2\n",
      "3\n",
      "4\n",
      "Number 5 found, no dissasemble number 5\n"
     ]
    }
   ],
   "source": [
    "# Loop control statement examples\n",
    "\n",
    "numbers = [1, 2, 3, 4, 5, 6, 7, 8, 9, 10]\n",
    "\n",
    "for number in numbers:\n",
    "    if number ==5:\n",
    "        print(\"Number 5 found, no dissasemble number 5\")\n",
    "        break\n",
    "    print(number)"
   ]
  },
  {
   "cell_type": "markdown",
   "id": "827af561",
   "metadata": {},
   "source": [
    "## Payroll example"
   ]
  },
  {
   "cell_type": "code",
   "execution_count": 16,
   "id": "a18d7e93",
   "metadata": {},
   "outputs": [
    {
     "name": "stdout",
     "output_type": "stream",
     "text": [
      "You did not enter your hours.\n",
      "You did not enter your hours.\n",
      "You did not enter your hours.\n",
      "You did not enter your hours.\n",
      "You did not enter your hours.\n",
      "You did not enter your hours.\n",
      "You did not enter your hours.\n",
      "You worked 40 hours this week.\n"
     ]
    }
   ],
   "source": [
    "hoursWorked = input(\"Enter the number of hours worked: \")\n",
    "\n",
    "while hoursWorked == \"\":\n",
    "    print(\"You did not enter your hours.\")\n",
    "    hoursWorked = input(\"Please enter your hours.\")\n",
    "else:\n",
    "    print(f\"You worked {hoursWorked} hours this week.\")"
   ]
  },
  {
   "cell_type": "markdown",
   "id": "3f52857f",
   "metadata": {},
   "source": [
    "# NESTED Loops\n",
    "These are loops inside of other loops."
   ]
  },
  {
   "cell_type": "code",
   "execution_count": 18,
   "id": "38c45472",
   "metadata": {},
   "outputs": [
    {
     "name": "stdout",
     "output_type": "stream",
     "text": [
      "1\n",
      "2\n",
      "3\n",
      "4\n",
      "5\n",
      "6\n",
      "7\n",
      "8\n",
      "9\n"
     ]
    }
   ],
   "source": [
    "matrix = [[1,2,3],[4,5,6],[7,8,9]]\n",
    "\n",
    "# Nested loop example\n",
    "for row in matrix:\n",
    "    for element in row:\n",
    "        print(element)"
   ]
  },
  {
   "cell_type": "code",
   "execution_count": 19,
   "id": "c173602a",
   "metadata": {},
   "outputs": [
    {
     "name": "stdout",
     "output_type": "stream",
     "text": [
      "[[1, 2, 3], [4, 5, 6], [7, 8, 9]]\n"
     ]
    }
   ],
   "source": [
    "print(matrix)"
   ]
  }
 ],
 "metadata": {
  "kernelspec": {
   "display_name": "base",
   "language": "python",
   "name": "python3"
  },
  "language_info": {
   "codemirror_mode": {
    "name": "ipython",
    "version": 3
   },
   "file_extension": ".py",
   "mimetype": "text/x-python",
   "name": "python",
   "nbconvert_exporter": "python",
   "pygments_lexer": "ipython3",
   "version": "3.13.5"
  }
 },
 "nbformat": 4,
 "nbformat_minor": 5
}
