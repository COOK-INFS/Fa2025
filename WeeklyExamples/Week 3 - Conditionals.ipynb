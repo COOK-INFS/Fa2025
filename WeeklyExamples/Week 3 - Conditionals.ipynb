{
 "cells": [
  {
   "cell_type": "markdown",
   "id": "1d36810f",
   "metadata": {},
   "source": [
    "# User Input\n",
    "We want to have the ability to get input from users. This user input will then provide the values we will use in our conditional statements.\n",
    " \n",
    "It is important to remember that user input will be received as a String (Str) value."
   ]
  },
  {
   "cell_type": "code",
   "execution_count": 3,
   "id": "5ac5e94e",
   "metadata": {},
   "outputs": [
    {
     "name": "stdout",
     "output_type": "stream",
     "text": [
      "Hello Bob\n",
      "You are 56 years old.\n"
     ]
    }
   ],
   "source": [
    "userName = input(\"What is your name?: \")\n",
    "userAge = int(input(\"What year were you born?: \"))\n",
    "\n",
    "age = 2025 - userAge\n",
    "\n",
    "print(\"Hello \" + userName)\n",
    "print(\"You are \" +str(age)+ \" years old.\")"
   ]
  },
  {
   "cell_type": "markdown",
   "id": "64137a47",
   "metadata": {},
   "source": [
    "# IF Statement examples"
   ]
  },
  {
   "cell_type": "code",
   "execution_count": 6,
   "id": "e6426abd",
   "metadata": {},
   "outputs": [
    {
     "name": "stdout",
     "output_type": "stream",
     "text": [
      "Hello Bob\n",
      "You are 17 years old.\n"
     ]
    }
   ],
   "source": [
    "userName = input(\"What is your name?: \")\n",
    "userAge = int(input(\"What year were you born?: \"))\n",
    "\n",
    "age = 2025 - userAge\n",
    "\n",
    "print(\"Hello \" + userName)\n",
    "\n",
    "\n",
    "# Example of using an IF statement to behave differently\n",
    "if age >= 21:\n",
    "    print(\"Welcome to the bar, enjoy your cold snack.\")\n",
    "\n",
    "\n",
    "print(\"You are \" +str(age)+ \" years old.\")"
   ]
  },
  {
   "cell_type": "markdown",
   "id": "ddb2b6ad",
   "metadata": {},
   "source": [
    "# Two way IF statement"
   ]
  },
  {
   "cell_type": "code",
   "execution_count": 8,
   "id": "5efb4651",
   "metadata": {},
   "outputs": [
    {
     "name": "stdout",
     "output_type": "stream",
     "text": [
      "Hello Bob\n",
      "Sorry, you are not old enough for cold snacks.\n"
     ]
    }
   ],
   "source": [
    "userName = input(\"What is your name?: \")\n",
    "userAge = int(input(\"What year were you born?: \"))\n",
    "\n",
    "age = 2025 - userAge\n",
    "\n",
    "print(\"Hello \" + userName)\n",
    "\n",
    "# Two way IF statement\n",
    "if age >= 21:\n",
    "    print(\"Welcome in, enjoy your cold snack.\")\n",
    "    print(\"Hello\")\n",
    "else:\n",
    "    print(\"Sorry, you are not old enough for cold snacks.\")"
   ]
  },
  {
   "cell_type": "markdown",
   "id": "22ba44fb",
   "metadata": {},
   "source": [
    "# Ternary expression example\n"
   ]
  },
  {
   "cell_type": "code",
   "execution_count": null,
   "id": "65520abf",
   "metadata": {},
   "outputs": [
    {
     "name": "stdout",
     "output_type": "stream",
     "text": [
      "Hello Bob\n",
      "You cannot enter.\n"
     ]
    }
   ],
   "source": [
    "userName = input(\"What is your name?: \")\n",
    "userAge = int(input(\"What year were you born?: \"))\n",
    "\n",
    "age = 2025 - userAge\n",
    "\n",
    "print(\"Hello \" + userName)\n",
    "\n",
    "# Ternary expression example (Just a different way to show an two way IF type statement.)\n",
    "canEnter = \"You can enter the bar.\" if age >= 21 else \"You cannot enter.\"\n",
    "\n",
    "print(canEnter)"
   ]
  },
  {
   "cell_type": "markdown",
   "id": "68b5af25",
   "metadata": {},
   "source": [
    "# Nested IF example"
   ]
  },
  {
   "cell_type": "code",
   "execution_count": 16,
   "id": "85233321",
   "metadata": {},
   "outputs": [
    {
     "name": "stdout",
     "output_type": "stream",
     "text": [
      "Hello Bob\n",
      "You are not eligible for enlistment.\n"
     ]
    }
   ],
   "source": [
    "userName = input(\"What is your name?: \")\n",
    "userAge = int(input(\"What year were you born?: \"))\n",
    "\n",
    "age = 2025 - userAge\n",
    "\n",
    "print(\"Hello \" + userName)\n",
    "\n",
    "# Nested IF example\n",
    "if age >= 18:\n",
    "    if age <= 25:\n",
    "        print(\"You can enlist in the service.\")\n",
    "    else:\n",
    "        print(\"You are too old to enlist.\")\n",
    "else:\n",
    "    print(\"You are not eligible for enlistment.\")"
   ]
  },
  {
   "cell_type": "markdown",
   "id": "820800ed",
   "metadata": {},
   "source": [
    "# ELIF statement examples"
   ]
  },
  {
   "cell_type": "code",
   "execution_count": null,
   "id": "947276c8",
   "metadata": {},
   "outputs": [
    {
     "name": "stdout",
     "output_type": "stream",
     "text": [
      "You are eligible for a learners permit.\n"
     ]
    }
   ],
   "source": [
    "userName = input(\"What is your name?: \")\n",
    "userAge = int(input(\"What year were you born?: \"))\n",
    "\n",
    "age = 2025 - userAge\n",
    "\n",
    "# print(\"Hello \" + userName)\n",
    "\n",
    "# ELIF statement examples\n",
    "if age <= 16:\n",
    "    print(\"You are too young to drive.\")\n",
    "elif age >= 16 and age <= 18:\n",
    "    print(\"You are eligible for a learners permit.\")\n",
    "elif age >25 and age <= 50:\n",
    "    print (\"You may be eligible for a insurance discount.\")\n",
    "else:\n",
    "    print (\"You are eligible for a drivers license.\")"
   ]
  },
  {
   "cell_type": "markdown",
   "id": "f752540e",
   "metadata": {},
   "source": [
    "# Match case statement example"
   ]
  },
  {
   "cell_type": "code",
   "execution_count": 25,
   "id": "aed23bba",
   "metadata": {},
   "outputs": [
    {
     "name": "stdout",
     "output_type": "stream",
     "text": [
      "Invalid Day\n"
     ]
    }
   ],
   "source": [
    "dayToView = int(input(\"What day number (0 to 6) would you like to show?\"))\n",
    "\n",
    "day = dayToView\n",
    "day_of_week = \"\"\n",
    "\n",
    "\n",
    "if day == 0:\n",
    "    day_of_week = \"Sunday\"\n",
    "elif day == 1:\n",
    "    day_of_week = \"Monday\"\n",
    "elif day == 2:\n",
    "    day_of_week = \"Tuesday\"\n",
    "elif day == 3:\n",
    "    day_of_week = \"Wednesday\"\n",
    "elif day == 4:\n",
    "    day_of_week = \"Thursday\"\n",
    "elif day == 5:\n",
    "    day_of_week = \"Friday\"\n",
    "elif day == 6:\n",
    "    day_of_week = \"Saturday\"\n",
    "else:\n",
    "    day_of_week = \"Invalid Day\"\n",
    "\n",
    "print(day_of_week)\n"
   ]
  },
  {
   "cell_type": "markdown",
   "id": "2575da4a",
   "metadata": {},
   "source": [
    "# ATM Simulator"
   ]
  },
  {
   "cell_type": "code",
   "execution_count": 28,
   "id": "5b20a7a9",
   "metadata": {},
   "outputs": [
    {
     "name": "stdout",
     "output_type": "stream",
     "text": [
      "Welcome to the ATM simulator\n",
      "1. Check Balance\n",
      "2. Withdraw\n",
      "3. Deposit\n",
      "4. Exit\n",
      "Your current balance is $1000\n",
      "Welcome to the ATM simulator\n",
      "1. Check Balance\n",
      "2. Withdraw\n",
      "3. Deposit\n",
      "4. Exit\n",
      "$100 withdrawn successfully\n",
      "Your remaining balance is: $900\n",
      "Welcome to the ATM simulator\n",
      "1. Check Balance\n",
      "2. Withdraw\n",
      "3. Deposit\n",
      "4. Exit\n",
      "Your current balance is $900\n",
      "Welcome to the ATM simulator\n",
      "1. Check Balance\n",
      "2. Withdraw\n",
      "3. Deposit\n",
      "4. Exit\n",
      "$200 deposited successfully.\n",
      "Your current balance is: $1100\n",
      "Welcome to the ATM simulator\n",
      "1. Check Balance\n",
      "2. Withdraw\n",
      "3. Deposit\n",
      "4. Exit\n",
      "Your current balance is $1100\n",
      "Welcome to the ATM simulator\n",
      "1. Check Balance\n",
      "2. Withdraw\n",
      "3. Deposit\n",
      "4. Exit\n",
      "Thank you for using our ATM!\n"
     ]
    }
   ],
   "source": [
    "# Initialize a balance our account\n",
    "balance = 1000\n",
    "\n",
    "while True:\n",
    "    print(\"Welcome to the ATM simulator\")\n",
    "    print(\"1. Check Balance\")\n",
    "    print(\"2. Withdraw\")\n",
    "    print(\"3. Deposit\")\n",
    "    print(\"4. Exit\")\n",
    "\n",
    "\n",
    "    choice = int(input(\"Enter your choice: \"))\n",
    "    \n",
    "    if choice == 1:\n",
    "        print(\"Your current balance is $\" + str(balance))\n",
    "    elif choice == 2:\n",
    "        amount = int(input(\"Enter the amount you want to withdraw: \"))\n",
    "        if amount > balance:\n",
    "            print(\"Insufficient funds\")\n",
    "        elif amount <= 0:\n",
    "            print(\"Invalid amount\")\n",
    "        else:\n",
    "            balance -= amount\n",
    "            print(\"$\" + str(amount) + \" withdrawn successfully\")\n",
    "            print(\"Your remaining balance is: $\" + str(balance))\n",
    "    elif choice == 3:\n",
    "        amount = int(input(\"Enter the amount you want to deposit: \"))\n",
    "        if amount <= 0:\n",
    "            print(\"Invalid amount\")\n",
    "        else: \n",
    "            balance += amount\n",
    "            print(\"$\" + str(amount) + \" deposited successfully.\")\n",
    "            print(\"Your current balance is: $\" + str(balance))\n",
    "    elif choice == 4:\n",
    "        print(\"Thank you for using our ATM!\")\n",
    "        break\n",
    "    else:\n",
    "        print(\"Invalid choice. Please try again.\")\n",
    "    \n"
   ]
  }
 ],
 "metadata": {
  "kernelspec": {
   "display_name": "base",
   "language": "python",
   "name": "python3"
  },
  "language_info": {
   "codemirror_mode": {
    "name": "ipython",
    "version": 3
   },
   "file_extension": ".py",
   "mimetype": "text/x-python",
   "name": "python",
   "nbconvert_exporter": "python",
   "pygments_lexer": "ipython3",
   "version": "3.13.5"
  }
 },
 "nbformat": 4,
 "nbformat_minor": 5
}
