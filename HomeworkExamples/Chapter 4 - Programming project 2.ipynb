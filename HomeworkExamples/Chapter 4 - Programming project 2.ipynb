{
 "cells": [
  {
   "cell_type": "markdown",
   "id": "638a604e",
   "metadata": {},
   "source": [
    "In mathematics, the notation n! represents the factorial of the nonnegative integer n. The factorial of n is the product of all the nonnegative integers from 1 to n. For example: 7! = 1 x 2 x 3 x 4 x 5 x 6 x 7 = 5,040\n",
    " \n",
    "Write a program that lets the user enter a nonnegative integer and then uses a loop to calculate the factorial of that number. Display the factorial.\n",
    " \n",
    "Look carefully at the following sample run of the program. In particular, notice the wording of the message and the placement of spaces and colons. Your program's output must match this.\n",
    "\n",
    "**Sample Run (User input shown in bold)**\n",
    " \n",
    "Enter a nonnegative integer:**7**  \n",
    "5040"
   ]
  },
  {
   "cell_type": "markdown",
   "id": "2b3e4fff",
   "metadata": {},
   "source": []
  },
  {
   "cell_type": "code",
   "execution_count": null,
   "id": "f3b5c3ee",
   "metadata": {},
   "outputs": [
    {
     "name": "stdout",
     "output_type": "stream",
     "text": [
      "6\n"
     ]
    }
   ],
   "source": [
    "# Getting user input\n",
    "num = int(input('Enter a nonnegative integer:'))\n",
    "\n",
    "# A factorial is the product of numbers from 1 to n.\n",
    "factorial = 1\n",
    "\n",
    "# Create a sequence of numbers starting at 2 and ending at \"num\"\n",
    "# We start at 2 because multiplying by 1 doesn't change the results.\n",
    "for i in range(1, num + 1):\n",
    "\tfactorial *= i\n",
    "\t\n",
    "print(factorial)\n"
   ]
  }
 ],
 "metadata": {
  "kernelspec": {
   "display_name": "base",
   "language": "python",
   "name": "python3"
  },
  "language_info": {
   "codemirror_mode": {
    "name": "ipython",
    "version": 3
   },
   "file_extension": ".py",
   "mimetype": "text/x-python",
   "name": "python",
   "nbconvert_exporter": "python",
   "pygments_lexer": "ipython3",
   "version": "3.13.5"
  }
 },
 "nbformat": 4,
 "nbformat_minor": 5
}
